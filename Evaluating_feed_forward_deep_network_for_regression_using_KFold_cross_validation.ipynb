{
  "nbformat": 4,
  "nbformat_minor": 0,
  "metadata": {
    "colab": {
      "provenance": []
    },
    "kernelspec": {
      "name": "python3",
      "display_name": "Python 3"
    },
    "language_info": {
      "name": "python"
    },
    "accelerator": "GPU",
    "gpuClass": "standard"
  },
  "cells": [
    {
      "cell_type": "code",
      "execution_count": 1,
      "metadata": {
        "id": "qys8hiH6TgOH"
      },
      "outputs": [],
      "source": [
        "from tensorflow.keras.datasets import cifar10\n",
        "from tensorflow.keras.models import Sequential\n",
        "from tensorflow.keras.layers import Dense, Flatten, Conv2D, MaxPooling2D\n",
        "from tensorflow.keras.losses import sparse_categorical_crossentropy\n",
        "from tensorflow.keras.optimizers import Adam\n",
        "import matplotlib.pyplot as plt"
      ]
    },
    {
      "cell_type": "code",
      "source": [],
      "metadata": {
        "id": "QjXY-aTuWZiS"
      },
      "execution_count": null,
      "outputs": []
    },
    {
      "cell_type": "code",
      "source": [
        "# Model configuration\n",
        "batch_size = 50\n",
        "img_width, img_height, img_num_channels = 32, 32, 3\n",
        "loss_function = sparse_categorical_crossentropy\n",
        "no_classes = 100\n",
        "no_epochs = 10   # you can increase it to 20,50,70, 100\n",
        "optimizer = Adam()\n",
        "verbosity = 1"
      ],
      "metadata": {
        "id": "in2a5n5rTp8x"
      },
      "execution_count": 2,
      "outputs": []
    },
    {
      "cell_type": "code",
      "source": [
        "# Load CIFAR-10 data\n",
        "(input_train, target_train), (input_test, target_test) = cifar10.load_data()\n",
        "\n",
        "# Determine shape of the data\n",
        "input_shape = (img_width, img_height, img_num_channels)\n"
      ],
      "metadata": {
        "id": "j0xnC2LaTr6g",
        "colab": {
          "base_uri": "https://localhost:8080/"
        },
        "outputId": "f76d0eb5-db6e-4006-c6f8-6cb7530cbdb3"
      },
      "execution_count": 3,
      "outputs": [
        {
          "output_type": "stream",
          "name": "stdout",
          "text": [
            "Downloading data from https://www.cs.toronto.edu/~kriz/cifar-10-python.tar.gz\n",
            "170498071/170498071 [==============================] - 3s 0us/step\n"
          ]
        }
      ]
    },
    {
      "cell_type": "code",
      "source": [
        "# Parse numbers as floats\n",
        "input_train = input_train.astype('float32')\n",
        "input_test = input_test.astype('float32')"
      ],
      "metadata": {
        "id": "aTpHc_MQTy9k"
      },
      "execution_count": 4,
      "outputs": []
    },
    {
      "cell_type": "code",
      "source": [
        "# Normalize data\n",
        "input_train = input_train / 255\n",
        "input_test = input_test / 255"
      ],
      "metadata": {
        "id": "HaVI4sDdT1_-"
      },
      "execution_count": 5,
      "outputs": []
    },
    {
      "cell_type": "code",
      "source": [
        "# Create the model\n",
        "model = Sequential()\n",
        "model.add(Conv2D(32, kernel_size=(3, 3), activation='relu', input_shape=input_shape))\n",
        "model.add(MaxPooling2D(pool_size=(2, 2)))\n",
        "model.add(Conv2D(64, kernel_size=(3, 3), activation='relu'))\n",
        "model.add(MaxPooling2D(pool_size=(2, 2)))\n",
        "model.add(Flatten())\n",
        "model.add(Dense(256, activation='relu'))\n",
        "model.add(Dense(128, activation='relu'))\n",
        "model.add(Dense(no_classes, activation='softmax'))"
      ],
      "metadata": {
        "id": "Ml1VM2kwT3z2"
      },
      "execution_count": 6,
      "outputs": []
    },
    {
      "cell_type": "code",
      "source": [
        "model.summary()"
      ],
      "metadata": {
        "colab": {
          "base_uri": "https://localhost:8080/"
        },
        "id": "YPVUHv03UCH3",
        "outputId": "98d89d34-96fa-4b20-fdb1-b1e5ff6155a0"
      },
      "execution_count": 7,
      "outputs": [
        {
          "output_type": "stream",
          "name": "stdout",
          "text": [
            "Model: \"sequential\"\n",
            "_________________________________________________________________\n",
            " Layer (type)                Output Shape              Param #   \n",
            "=================================================================\n",
            " conv2d (Conv2D)             (None, 30, 30, 32)        896       \n",
            "                                                                 \n",
            " max_pooling2d (MaxPooling2  (None, 15, 15, 32)        0         \n",
            " D)                                                              \n",
            "                                                                 \n",
            " conv2d_1 (Conv2D)           (None, 13, 13, 64)        18496     \n",
            "                                                                 \n",
            " max_pooling2d_1 (MaxPoolin  (None, 6, 6, 64)          0         \n",
            " g2D)                                                            \n",
            "                                                                 \n",
            " flatten (Flatten)           (None, 2304)              0         \n",
            "                                                                 \n",
            " dense (Dense)               (None, 256)               590080    \n",
            "                                                                 \n",
            " dense_1 (Dense)             (None, 128)               32896     \n",
            "                                                                 \n",
            " dense_2 (Dense)             (None, 100)               12900     \n",
            "                                                                 \n",
            "=================================================================\n",
            "Total params: 655268 (2.50 MB)\n",
            "Trainable params: 655268 (2.50 MB)\n",
            "Non-trainable params: 0 (0.00 Byte)\n",
            "_________________________________________________________________\n"
          ]
        }
      ]
    },
    {
      "cell_type": "code",
      "source": [
        "# Compile the model\n",
        "model.compile(loss=loss_function, optimizer=optimizer,metrics=['accuracy'])"
      ],
      "metadata": {
        "id": "48IWK8PnUD98"
      },
      "execution_count": 8,
      "outputs": []
    },
    {
      "cell_type": "code",
      "source": [
        "# Fit data to model (this will take little time to train)\n",
        "history = model.fit(input_train, target_train, batch_size=batch_size, epochs=no_epochs, verbose=verbosity)"
      ],
      "metadata": {
        "colab": {
          "base_uri": "https://localhost:8080/"
        },
        "id": "ZLnzBeT8UJE0",
        "outputId": "d2c4bd98-fce4-4f63-df56-859a4bec32cb"
      },
      "execution_count": 9,
      "outputs": [
        {
          "output_type": "stream",
          "name": "stdout",
          "text": [
            "Epoch 1/10\n",
            "1000/1000 [==============================] - 9s 4ms/step - loss: 1.5385 - accuracy: 0.4469\n",
            "Epoch 2/10\n",
            "1000/1000 [==============================] - 4s 4ms/step - loss: 1.1065 - accuracy: 0.6086\n",
            "Epoch 3/10\n",
            "1000/1000 [==============================] - 4s 4ms/step - loss: 0.9394 - accuracy: 0.6707\n",
            "Epoch 4/10\n",
            "1000/1000 [==============================] - 4s 4ms/step - loss: 0.8203 - accuracy: 0.7119\n",
            "Epoch 5/10\n",
            "1000/1000 [==============================] - 4s 4ms/step - loss: 0.7246 - accuracy: 0.7458\n",
            "Epoch 6/10\n",
            "1000/1000 [==============================] - 4s 4ms/step - loss: 0.6364 - accuracy: 0.7754\n",
            "Epoch 7/10\n",
            "1000/1000 [==============================] - 4s 4ms/step - loss: 0.5534 - accuracy: 0.8049\n",
            "Epoch 8/10\n",
            "1000/1000 [==============================] - 4s 4ms/step - loss: 0.4717 - accuracy: 0.8324\n",
            "Epoch 9/10\n",
            "1000/1000 [==============================] - 4s 4ms/step - loss: 0.3963 - accuracy: 0.8594\n",
            "Epoch 10/10\n",
            "1000/1000 [==============================] - 4s 4ms/step - loss: 0.3335 - accuracy: 0.8825\n"
          ]
        }
      ]
    },
    {
      "cell_type": "code",
      "source": [
        "# Generate generalization metrics\n",
        "score = model.evaluate(input_test, target_test, verbose=0)\n",
        "print(f'Test loss: {score[0]} / Test accuracy: {score[1]}')\n"
      ],
      "metadata": {
        "colab": {
          "base_uri": "https://localhost:8080/"
        },
        "id": "GWD86vBAUO5T",
        "outputId": "687e2a4d-c3cb-4b5a-9ca9-4aee858eb74a"
      },
      "execution_count": 10,
      "outputs": [
        {
          "output_type": "stream",
          "name": "stdout",
          "text": [
            "Test loss: 1.1159257888793945 / Test accuracy: 0.6891999840736389\n"
          ]
        }
      ]
    },
    {
      "cell_type": "code",
      "source": [
        "# Visualize history\n",
        "# Plot history: Loss\n",
        "plt.plot(history.history['loss'])\n",
        "plt.title('Validation loss history')\n",
        "plt.ylabel('Loss value')\n",
        "plt.xlabel('No. epoch')\n",
        "plt.show()"
      ],
      "metadata": {
        "colab": {
          "base_uri": "https://localhost:8080/",
          "height": 472
        },
        "id": "QCqCAUlDUSPr",
        "outputId": "5883b608-7072-411d-ce6e-f8b079caad69"
      },
      "execution_count": 11,
      "outputs": [
        {
          "output_type": "display_data",
          "data": {
            "text/plain": [
              "<Figure size 640x480 with 1 Axes>"
            ],
            "image/png": "[encoded data removed]"
          },
          "metadata": {}
        }
      ]
    },
    {
      "cell_type": "code",
      "source": [
        "# Plot history: Accuracy\n",
        "plt.plot(history.history['accuracy'])\n",
        "plt.title('Validation accuracy history')\n",
        "plt.ylabel('Accuracy value (%)')\n",
        "plt.xlabel('No. epoch')\n",
        "plt.show()"
      ],
      "metadata": {
        "colab": {
          "base_uri": "https://localhost:8080/",
          "height": 472
        },
        "id": "zKU9hOLVUU3U",
        "outputId": "495943ad-ba31-462f-8171-c9b4241ebf65"
      },
      "execution_count": 12,
      "outputs": [
        {
          "output_type": "display_data",
          "data": {
            "text/plain": [
              "<Figure size 640x480 with 1 Axes>"
            ],
            "image/png": "[encoded data removed]"
          },
          "metadata": {}
        }
      ]
    },
    {
      "cell_type": "code",
      "source": [
        "# By Adding k fold cross validation\n",
        "\n",
        "\n",
        "from tensorflow.keras.datasets import cifar10\n",
        "from tensorflow.keras.models import Sequential\n",
        "from tensorflow.keras.layers import Dense, Flatten, Conv2D, MaxPooling2D\n",
        "from tensorflow.keras.losses import sparse_categorical_crossentropy\n",
        "from tensorflow.keras.optimizers import Adam\n",
        "from sklearn.model_selection import KFold\n",
        "KFold\n",
        "\n",
        "import numpy as np\n",
        "\n",
        "# Model configuration\n",
        "batch_size = 50\n",
        "img_width, img_height, img_num_channels = 32, 32, 3\n",
        "loss_function = sparse_categorical_crossentropy\n",
        "no_classes = 100\n",
        "no_epochs = 10\n",
        "optimizer = Adam()\n",
        "verbosity = 1\n",
        "num_folds = 5\n",
        "\n",
        "# Load CIFAR-10 data\n",
        "(input_train, target_train), (input_test, target_test) = cifar10.load_data()\n",
        "\n",
        "# Determine shape of the data\n",
        "input_shape = (img_width, img_height, img_num_channels)\n",
        "\n",
        "# Parse numbers as floats\n",
        "input_train = input_train.astype('float32')\n",
        "input_test = input_test.astype('float32')\n",
        "\n",
        "# Normalize data\n",
        "input_train = input_train / 255\n",
        "input_test = input_test / 255\n",
        "\n",
        "# Define per-fold score containers\n",
        "acc_per_fold = []\n",
        "loss_per_fold = []\n",
        "\n",
        "# Merge inputs and targets\n",
        "inputs = np.concatenate((input_train, input_test), axis=0)\n",
        "targets = np.concatenate((target_train, target_test), axis=0)\n",
        "\n",
        "# Define the K-fold Cross Validator\n",
        "kfold = KFold(n_splits=num_folds, shuffle=True)\n",
        "\n"
      ],
      "metadata": {
        "id": "vbJB5yMsWmnv"
      },
      "execution_count": 13,
      "outputs": []
    },
    {
      "cell_type": "code",
      "source": [
        "# K-fold Cross Validation model evaluation\n",
        "from tensorflow.keras.optimizers import Adam\n",
        "fold_no = 1\n",
        "for train, test in kfold.split(inputs, targets):\n",
        "\n",
        "  # Define the model architecture\n",
        "  model = Sequential()\n",
        "  model.add(Conv2D(32, kernel_size=(3, 3), activation='relu', input_shape=input_shape))\n",
        "  model.add(MaxPooling2D(pool_size=(2, 2)))\n",
        "  model.add(Conv2D(64, kernel_size=(3, 3), activation='relu'))\n",
        "  model.add(MaxPooling2D(pool_size=(2, 2)))\n",
        "  model.add(Flatten())\n",
        "  model.add(Dense(256, activation='relu'))\n",
        "  model.add(Dense(128, activation='relu'))\n",
        "  model.add(Dense(no_classes, activation='softmax'))\n",
        "\n",
        "  # Compile the model\n",
        "  model.compile(loss=loss_function,\n",
        "              optimizer=Adam(),\n",
        "              metrics=['accuracy'])\n",
        "  model.optimizer.build(model.trainable_variables)\n",
        "\n",
        "  # Generate a print\n",
        "  print('------------------------------------------------------------------------')\n",
        "  print(f'Training for fold {fold_no} ...')\n",
        "\n",
        "\n",
        "\n",
        "  # Fit data to model\n",
        "  history = model.fit(inputs[train], targets[train],\n",
        "          batch_size=batch_size,\n",
        "          epochs=no_epochs,\n",
        "          verbose=verbosity)\n",
        "\n",
        "  # Generate generalization metrics\n",
        "  scores = model.evaluate(inputs[test], targets[test], verbose=0)\n",
        "  print(f'Score for fold {fold_no}: {model.metrics_names[0]} of {scores[0]}; {model.metrics_names[1]} of {scores[1]*100}%')\n",
        "  acc_per_fold.append(scores[1] * 100)\n",
        "  loss_per_fold.append(scores[0])\n",
        "\n",
        "  # Increase fold number\n",
        "  fold_no = fold_no + 1\n"
      ],
      "metadata": {
        "colab": {
          "base_uri": "https://localhost:8080/"
        },
        "id": "BApAQO6AWxpH",
        "outputId": "299158a8-e674-46b9-d46c-9db28297895e"
      },
      "execution_count": 15,
      "outputs": [
        {
          "output_type": "stream",
          "name": "stdout",
          "text": [
            "------------------------------------------------------------------------\n",
            "Training for fold 1 ...\n",
            "Epoch 1/10\n",
            "960/960 [==============================] - 6s 4ms/step - loss: 1.5328 - accuracy: 0.4530\n",
            "Epoch 2/10\n",
            "960/960 [==============================] - 4s 4ms/step - loss: 1.0958 - accuracy: 0.6141\n",
            "Epoch 3/10\n",
            "960/960 [==============================] - 4s 4ms/step - loss: 0.9365 - accuracy: 0.6704\n",
            "Epoch 4/10\n",
            "960/960 [==============================] - 4s 4ms/step - loss: 0.8227 - accuracy: 0.7118\n",
            "Epoch 5/10\n",
            "960/960 [==============================] - 4s 4ms/step - loss: 0.7246 - accuracy: 0.7480\n",
            "Epoch 6/10\n",
            "960/960 [==============================] - 5s 5ms/step - loss: 0.6361 - accuracy: 0.7782\n",
            "Epoch 7/10\n",
            "960/960 [==============================] - 4s 4ms/step - loss: 0.5503 - accuracy: 0.8064\n",
            "Epoch 8/10\n",
            "960/960 [==============================] - 4s 4ms/step - loss: 0.4720 - accuracy: 0.8338\n",
            "Epoch 9/10\n",
            "960/960 [==============================] - 4s 5ms/step - loss: 0.4010 - accuracy: 0.8585\n",
            "Epoch 10/10\n",
            "960/960 [==============================] - 4s 4ms/step - loss: 0.3304 - accuracy: 0.8837\n",
            "Score for fold 1: loss of 1.049593210220337; accuracy of 70.96666693687439%\n",
            "------------------------------------------------------------------------\n",
            "Training for fold 2 ...\n",
            "Epoch 1/10\n",
            "960/960 [==============================] - 6s 5ms/step - loss: 1.5519 - accuracy: 0.4448\n",
            "Epoch 2/10\n",
            "960/960 [==============================] - 4s 4ms/step - loss: 1.0950 - accuracy: 0.6135\n",
            "Epoch 3/10\n",
            "960/960 [==============================] - 4s 4ms/step - loss: 0.9271 - accuracy: 0.6749\n",
            "Epoch 4/10\n",
            "960/960 [==============================] - 4s 5ms/step - loss: 0.8256 - accuracy: 0.7114\n",
            "Epoch 5/10\n",
            "960/960 [==============================] - 4s 4ms/step - loss: 0.7210 - accuracy: 0.7489\n",
            "Epoch 6/10\n",
            "960/960 [==============================] - 4s 4ms/step - loss: 0.6341 - accuracy: 0.7777\n",
            "Epoch 7/10\n",
            "960/960 [==============================] - 4s 5ms/step - loss: 0.5561 - accuracy: 0.8049\n",
            "Epoch 8/10\n",
            "960/960 [==============================] - 4s 4ms/step - loss: 0.4823 - accuracy: 0.8290\n",
            "Epoch 9/10\n",
            "960/960 [==============================] - 4s 4ms/step - loss: 0.4099 - accuracy: 0.8570\n",
            "Epoch 10/10\n",
            "960/960 [==============================] - 4s 4ms/step - loss: 0.3504 - accuracy: 0.8751\n",
            "Score for fold 2: loss of 0.998224139213562; accuracy of 72.09166884422302%\n",
            "------------------------------------------------------------------------\n",
            "Training for fold 3 ...\n",
            "Epoch 1/10\n",
            "960/960 [==============================] - 5s 4ms/step - loss: 1.5287 - accuracy: 0.4506\n",
            "Epoch 2/10\n",
            "960/960 [==============================] - 4s 4ms/step - loss: 1.1270 - accuracy: 0.6014\n",
            "Epoch 3/10\n",
            "960/960 [==============================] - 4s 4ms/step - loss: 0.9650 - accuracy: 0.6613\n",
            "Epoch 4/10\n",
            "960/960 [==============================] - 4s 4ms/step - loss: 0.8509 - accuracy: 0.7027\n",
            "Epoch 5/10\n",
            "960/960 [==============================] - 4s 5ms/step - loss: 0.7516 - accuracy: 0.7390\n",
            "Epoch 6/10\n",
            "960/960 [==============================] - 4s 4ms/step - loss: 0.6609 - accuracy: 0.7679\n",
            "Epoch 7/10\n",
            "960/960 [==============================] - 4s 4ms/step - loss: 0.5746 - accuracy: 0.7995\n",
            "Epoch 8/10\n",
            "960/960 [==============================] - 4s 4ms/step - loss: 0.4929 - accuracy: 0.8270\n",
            "Epoch 9/10\n",
            "960/960 [==============================] - 4s 5ms/step - loss: 0.4182 - accuracy: 0.8531\n",
            "Epoch 10/10\n",
            "960/960 [==============================] - 4s 4ms/step - loss: 0.3432 - accuracy: 0.8781\n",
            "Score for fold 3: loss of 1.0421760082244873; accuracy of 70.85000276565552%\n",
            "------------------------------------------------------------------------\n",
            "Training for fold 4 ...\n",
            "Epoch 1/10\n",
            "960/960 [==============================] - 5s 4ms/step - loss: 1.5875 - accuracy: 0.4283\n",
            "Epoch 2/10\n",
            "960/960 [==============================] - 4s 4ms/step - loss: 1.1653 - accuracy: 0.5850\n",
            "Epoch 3/10\n",
            "960/960 [==============================] - 4s 4ms/step - loss: 0.9803 - accuracy: 0.6555\n",
            "Epoch 4/10\n",
            "960/960 [==============================] - 4s 4ms/step - loss: 0.8707 - accuracy: 0.6972\n",
            "Epoch 5/10\n",
            "960/960 [==============================] - 4s 4ms/step - loss: 0.7697 - accuracy: 0.7314\n",
            "Epoch 6/10\n",
            "960/960 [==============================] - 4s 5ms/step - loss: 0.6825 - accuracy: 0.7624\n",
            "Epoch 7/10\n",
            "960/960 [==============================] - 4s 4ms/step - loss: 0.6051 - accuracy: 0.7881\n",
            "Epoch 8/10\n",
            "960/960 [==============================] - 4s 4ms/step - loss: 0.5352 - accuracy: 0.8119\n",
            "Epoch 9/10\n",
            "960/960 [==============================] - 4s 5ms/step - loss: 0.4608 - accuracy: 0.8374\n",
            "Epoch 10/10\n",
            "960/960 [==============================] - 4s 4ms/step - loss: 0.3943 - accuracy: 0.8595\n",
            "Score for fold 4: loss of 1.0130972862243652; accuracy of 70.59999704360962%\n",
            "------------------------------------------------------------------------\n",
            "Training for fold 5 ...\n",
            "Epoch 1/10\n",
            "960/960 [==============================] - 6s 4ms/step - loss: 1.5803 - accuracy: 0.4317\n",
            "Epoch 2/10\n",
            "960/960 [==============================] - 4s 4ms/step - loss: 1.1722 - accuracy: 0.5830\n",
            "Epoch 3/10\n",
            "960/960 [==============================] - 4s 4ms/step - loss: 1.0022 - accuracy: 0.6481\n",
            "Epoch 4/10\n",
            "960/960 [==============================] - 4s 5ms/step - loss: 0.8856 - accuracy: 0.6900\n",
            "Epoch 5/10\n",
            "960/960 [==============================] - 4s 4ms/step - loss: 0.7882 - accuracy: 0.7238\n",
            "Epoch 6/10\n",
            "960/960 [==============================] - 4s 4ms/step - loss: 0.7016 - accuracy: 0.7543\n",
            "Epoch 7/10\n",
            "960/960 [==============================] - 5s 5ms/step - loss: 0.6201 - accuracy: 0.7828\n",
            "Epoch 8/10\n",
            "960/960 [==============================] - 4s 4ms/step - loss: 0.5455 - accuracy: 0.8089\n",
            "Epoch 9/10\n",
            "960/960 [==============================] - 4s 4ms/step - loss: 0.4696 - accuracy: 0.8352\n",
            "Epoch 10/10\n",
            "960/960 [==============================] - 4s 5ms/step - loss: 0.4047 - accuracy: 0.8561\n",
            "Score for fold 5: loss of 1.040866494178772; accuracy of 69.69166398048401%\n"
          ]
        }
      ]
    },
    {
      "cell_type": "code",
      "source": [
        "#!pip install tensorflow==2.10.0"
      ],
      "metadata": {
        "id": "ihjquPKee17m"
      },
      "execution_count": null,
      "outputs": []
    },
    {
      "cell_type": "code",
      "source": [],
      "metadata": {
        "id": "xPPX6EX7bDcV"
      },
      "execution_count": null,
      "outputs": []
    },
    {
      "cell_type": "code",
      "source": [
        "# == Provide average scores ==\n",
        "print('------------------------------------------------------------------------')\n",
        "print('Score per fold')\n",
        "for i in range(0, len(acc_per_fold)):\n",
        "  print('------------------------------------------------------------------------')\n",
        "  print(f'> Fold {i+1} - Loss: {loss_per_fold[i]} - Accuracy: {acc_per_fold[i]}%')\n",
        "print('------------------------------------------------------------------------')\n",
        "print('Average scores for all folds:')\n",
        "print(f'> Accuracy: {np.mean(acc_per_fold)} (+- {np.std(acc_per_fold)})')\n",
        "print(f'> Loss: {np.mean(loss_per_fold)}')\n",
        "print('------------------------------------------------------------------------')"
      ],
      "metadata": {
        "id": "j3UnRTGLWz5E",
        "colab": {
          "base_uri": "https://localhost:8080/"
        },
        "outputId": "982bd76b-b267-478a-e3ee-0dfce0abd5e4"
      },
      "execution_count": 16,
      "outputs": [
        {
          "output_type": "stream",
          "name": "stdout",
          "text": [
            "------------------------------------------------------------------------\n",
            "Score per fold\n",
            "------------------------------------------------------------------------\n",
            "> Fold 1 - Loss: 1.0235648155212402 - Accuracy: 69.9666678905487%\n",
            "------------------------------------------------------------------------\n",
            "> Fold 2 - Loss: 1.049593210220337 - Accuracy: 70.96666693687439%\n",
            "------------------------------------------------------------------------\n",
            "> Fold 3 - Loss: 0.998224139213562 - Accuracy: 72.09166884422302%\n",
            "------------------------------------------------------------------------\n",
            "> Fold 4 - Loss: 1.0421760082244873 - Accuracy: 70.85000276565552%\n",
            "------------------------------------------------------------------------\n",
            "> Fold 5 - Loss: 1.0130972862243652 - Accuracy: 70.59999704360962%\n",
            "------------------------------------------------------------------------\n",
            "> Fold 6 - Loss: 1.040866494178772 - Accuracy: 69.69166398048401%\n",
            "------------------------------------------------------------------------\n",
            "Average scores for all folds:\n",
            "> Accuracy: 70.69444457689922 (+- 0.7740248900869616)\n",
            "> Loss: 1.0279203255971272\n",
            "------------------------------------------------------------------------\n"
          ]
        }
      ]
    },
    {
      "cell_type": "code",
      "source": [],
      "metadata": {
        "id": "0Akd5d8vZ9Ap"
      },
      "execution_count": null,
      "outputs": []
    }
  ]
}